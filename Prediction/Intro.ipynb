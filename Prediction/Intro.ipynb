{
 "cells": [
  {
   "cell_type": "markdown",
   "id": "294a1be8",
   "metadata": {},
   "source": [
    "# Predictions: Model sequences - Part 0"
   ]
  },
  {
   "cell_type": "code",
   "execution_count": 1,
   "id": "41a4f4ac",
   "metadata": {},
   "outputs": [],
   "source": [
    "import numpy as np\n",
    "import pandas as pd\n",
    "import matplotlib.pyplot as plt\n",
    "import tensorflow as tf\n",
    "from tensorflow import keras"
   ]
  },
  {
   "cell_type": "code",
   "execution_count": 2,
   "id": "0d4a0c1e",
   "metadata": {},
   "outputs": [
    {
     "name": "stdout",
     "output_type": "stream",
     "text": [
      "[0 1 2 3] [4]\n",
      "[3 4 5 6] [7]\n",
      "[1 2 3 4] [5]\n",
      "[5 6 7 8] [9]\n",
      "[4 5 6 7] [8]\n",
      "[2 3 4 5] [6]\n"
     ]
    }
   ],
   "source": [
    "dataset = tf.data.Dataset.range(10)\n",
    "dataset = dataset.window(5, shift=1, drop_remainder=True)\n",
    "dataset = dataset.flat_map(lambda window: window.batch(5))\n",
    "dataset = dataset.map(lambda window: (window[:-1], window[-1:]))\n",
    "dataset = dataset.shuffle(buffer_size=10)\n",
    "for x,y in dataset:\n",
    "    print(x.numpy(), y.numpy())"
   ]
  },
  {
   "cell_type": "code",
   "execution_count": 3,
   "id": "71948933",
   "metadata": {},
   "outputs": [
    {
     "name": "stdout",
     "output_type": "stream",
     "text": [
      "x =  [[5 6 7 8]\n",
      " [1 2 3 4]]\n",
      "y =  [[9]\n",
      " [5]]\n",
      "x =  [[0 1 2 3]\n",
      " [3 4 5 6]]\n",
      "y =  [[4]\n",
      " [7]]\n",
      "x =  [[2 3 4 5]\n",
      " [4 5 6 7]]\n",
      "y =  [[6]\n",
      " [8]]\n"
     ]
    }
   ],
   "source": [
    "dataset = dataset.batch(2).prefetch(1)\n",
    "for x,y in dataset:\n",
    "    print('x = ', x.numpy())\n",
    "    print('y = ', y.numpy())"
   ]
  },
  {
   "cell_type": "code",
   "execution_count": null,
   "id": "09b1a977",
   "metadata": {},
   "outputs": [],
   "source": []
  }
 ],
 "metadata": {
  "kernelspec": {
   "display_name": "Python 3 (ipykernel)",
   "language": "python",
   "name": "python3"
  },
  "language_info": {
   "codemirror_mode": {
    "name": "ipython",
    "version": 3
   },
   "file_extension": ".py",
   "mimetype": "text/x-python",
   "name": "python",
   "nbconvert_exporter": "python",
   "pygments_lexer": "ipython3",
   "version": "3.11.5"
  }
 },
 "nbformat": 4,
 "nbformat_minor": 5
}
