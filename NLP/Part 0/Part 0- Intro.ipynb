{
 "cells": [
  {
   "cell_type": "markdown",
   "id": "5c6df227",
   "metadata": {},
   "source": [
    "# NLP: Part 0- Introduction, Handling Text Data"
   ]
  },
  {
   "cell_type": "code",
   "execution_count": 40,
   "id": "4c405afe",
   "metadata": {},
   "outputs": [],
   "source": [
    "import numpy as np\n",
    "import tensorflow as tf\n",
    "from tensorflow import keras\n",
    "from tensorflow.keras.preprocessing.text import Tokenizer\n",
    "from tensorflow.keras.preprocessing.sequence import pad_sequences"
   ]
  },
  {
   "cell_type": "markdown",
   "id": "1d29022f",
   "metadata": {},
   "source": [
    "## Tokenize"
   ]
  },
  {
   "cell_type": "code",
   "execution_count": 41,
   "id": "97cfa1d2",
   "metadata": {},
   "outputs": [],
   "source": [
    "# Create sample sentences\n",
    "sentences = ['I love my dog', 'I love my cat', 'You love my dog!', 'Do you think my dog is amazing?']"
   ]
  },
  {
   "cell_type": "code",
   "execution_count": 42,
   "id": "e2c631c2",
   "metadata": {},
   "outputs": [
    {
     "name": "stdout",
     "output_type": "stream",
     "text": [
      "\n",
      "Word Index =  {'<OOV>': 1, 'my': 2, 'love': 3, 'dog': 4, 'i': 5, 'you': 6, 'cat': 7, 'do': 8, 'think': 9, 'is': 10, 'amazing': 11}\n",
      "\n",
      "Sequences =  [[5, 3, 2, 4], [5, 3, 2, 7], [6, 3, 2, 4], [8, 6, 9, 2, 4, 10, 11]]\n"
     ]
    }
   ],
   "source": [
    "# Create tokenizer\n",
    "# num_words: By setting this hyperparameter, tokenizer take the top 100 words by volume\n",
    "# With oov_token the unseen data can handle as over vocabulary words\n",
    "tokenizer = Tokenizer(num_words=100, oov_token='<OOV>')\n",
    "tokenizer.fit_on_texts(sentences)\n",
    "word_index = tokenizer.word_index\n",
    "print('\\nWord Index = ',word_index)\n",
    "\n",
    "# Create sequences\n",
    "sequences = tokenizer.texts_to_sequences(sentences)\n",
    "print('\\nSequences = ',sequences)"
   ]
  },
  {
   "cell_type": "markdown",
   "id": "69c5167c",
   "metadata": {},
   "source": [
    "## Padding"
   ]
  },
  {
   "cell_type": "code",
   "execution_count": 51,
   "id": "a7ed2b7a",
   "metadata": {},
   "outputs": [
    {
     "name": "stdout",
     "output_type": "stream",
     "text": [
      "Padded Sequences:\n",
      "\n",
      " [[ 0  0  0  5  3  2  4]\n",
      " [ 0  0  0  5  3  2  7]\n",
      " [ 0  0  0  6  3  2  4]\n",
      " [ 8  6  9  2  4 10 11]]\n"
     ]
    }
   ],
   "source": [
    "padded = pad_sequences(sequences)\n",
    "print('Padded Sequences:\\n\\n',padded)"
   ]
  },
  {
   "cell_type": "code",
   "execution_count": 50,
   "id": "c5bf1aa8",
   "metadata": {},
   "outputs": [
    {
     "name": "stdout",
     "output_type": "stream",
     "text": [
      "Customized Padded Sequences:\n",
      "\n",
      " [[5 3 2 4 0]\n",
      " [5 3 2 7 0]\n",
      " [6 3 2 4 0]\n",
      " [8 6 9 2 4]]\n"
     ]
    }
   ],
   "source": [
    "# Create customized padding\n",
    "# padding = post add zeros after sequences. \n",
    "# maxlen = 5 add limitation on words to 5. so, any extra words remove from begining the sentences.\n",
    "# truncating = post remove extra words from ending the sentences.\n",
    "padded_c = pad_sequences(sequences, padding='post', truncating='post', maxlen=5)\n",
    "print('Customized Padded Sequences:\\n\\n',padded_c)"
   ]
  },
  {
   "cell_type": "code",
   "execution_count": 49,
   "id": "4f1107ea",
   "metadata": {},
   "outputs": [
    {
     "name": "stdout",
     "output_type": "stream",
     "text": [
      "\n",
      "Test Sequences =  [[5, 1, 3, 2, 4], [2, 4, 1, 2, 1]]\n",
      "\n",
      "Padded Test Sequences:\n",
      "\n",
      " [[0 0 0 0 0 5 1 3 2 4]\n",
      " [0 0 0 0 0 2 4 1 2 1]]\n"
     ]
    }
   ],
   "source": [
    "# Try with words that the tokenizer wasn't fit to\n",
    "test_data = ['i really love my dog', 'my dog loves my manatee']\n",
    "test_seq = tokenizer.texts_to_sequences(test_data)\n",
    "print('\\nTest Sequences = ',test_seq)\n",
    "padded = pad_sequences(test_seq, maxlen=10)\n",
    "print('\\nPadded Test Sequences:\\n\\n', padded)"
   ]
  }
 ],
 "metadata": {
  "kernelspec": {
   "display_name": "Python 3 (ipykernel)",
   "language": "python",
   "name": "python3"
  },
  "language_info": {
   "codemirror_mode": {
    "name": "ipython",
    "version": 3
   },
   "file_extension": ".py",
   "mimetype": "text/x-python",
   "name": "python",
   "nbconvert_exporter": "python",
   "pygments_lexer": "ipython3",
   "version": "3.11.5"
  }
 },
 "nbformat": 4,
 "nbformat_minor": 5
}
