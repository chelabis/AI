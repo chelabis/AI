{
 "cells": [
  {
   "cell_type": "markdown",
   "id": "45c64288",
   "metadata": {},
   "source": [
    "# NLP: Part 1- Sarcasm Detection"
   ]
  },
  {
   "cell_type": "code",
   "execution_count": 1,
   "id": "d63c9e64",
   "metadata": {},
   "outputs": [],
   "source": [
    "import numpy as np\n",
    "import tensorflow as tf\n",
    "from tensorflow import keras\n",
    "import json\n",
    "\n",
    "from tensorflow.keras.preprocessing.text import Tokenizer\n",
    "from tensorflow.keras.preprocessing.sequence import pad_sequences"
   ]
  },
  {
   "cell_type": "code",
   "execution_count": 2,
   "id": "310e49f7",
   "metadata": {},
   "outputs": [],
   "source": [
    "# Set up the hyperparameters\n",
    "vocab_size = 10000\n",
    "embedding_dim = 32\n",
    "max_length = 32\n",
    "trunc_type = 'post'\n",
    "padding_type = 'post'\n",
    "oov_tok = '<OOV>'\n",
    "training_size = 20000"
   ]
  },
  {
   "cell_type": "markdown",
   "id": "47a6b5cf",
   "metadata": {},
   "source": [
    "## Import Data"
   ]
  },
  {
   "cell_type": "code",
   "execution_count": 3,
   "id": "b9f48bb6",
   "metadata": {},
   "outputs": [],
   "source": [
    "with open('Sarcasm.json') as f:\n",
    "    datastore = json.load(f)\n",
    "    \n",
    "sentences = []\n",
    "labels = []\n",
    "for item in datastore:\n",
    "    sentences.append(item['headline'])\n",
    "    labels.append(item['is_sarcastic'])"
   ]
  },
  {
   "cell_type": "code",
   "execution_count": 4,
   "id": "7e163f93",
   "metadata": {},
   "outputs": [
    {
     "name": "stdout",
     "output_type": "stream",
     "text": [
      "First 3 Sentences =  [\"former versace store clerk sues over secret 'black code' for minority shoppers\", \"the 'roseanne' revival catches up to our thorny political mood, for better and worse\", \"mom starting to fear son's web series closest thing she will have to grandchild\"]\n",
      "\n",
      "First 3 Labels =  [0, 0, 1]\n"
     ]
    }
   ],
   "source": [
    "# Print first samples of data\n",
    "print('First 3 Sentences = ', sentences[0:3])\n",
    "print('\\nFirst 3 Labels = ', labels[0:3])"
   ]
  },
  {
   "cell_type": "markdown",
   "id": "0b6ae3b0",
   "metadata": {},
   "source": [
    "## Split the Data"
   ]
  },
  {
   "cell_type": "code",
   "execution_count": 5,
   "id": "4b8b0f3b",
   "metadata": {},
   "outputs": [],
   "source": [
    "training_sentences = sentences[0:training_size]\n",
    "testing_sentences = sentences[training_size:]\n",
    "training_labels = np.array(labels[0:training_size])\n",
    "testing_labels = np.array(labels[training_size:])"
   ]
  },
  {
   "cell_type": "markdown",
   "id": "b37b1ec2",
   "metadata": {},
   "source": [
    "## Sequences & Padding"
   ]
  },
  {
   "cell_type": "code",
   "execution_count": 6,
   "id": "c19cd830",
   "metadata": {},
   "outputs": [],
   "source": [
    "tokenizer = Tokenizer(num_words=vocab_size, oov_token=oov_tok)\n",
    "tokenizer.fit_on_texts(training_sentences)\n",
    "word_index = tokenizer.word_index\n",
    "\n",
    "training_sequences = tokenizer.texts_to_sequences(training_sentences)\n",
    "training_padded = pad_sequences(training_sequences, maxlen=max_length, padding=padding_type, truncating=trunc_type)\n",
    "\n",
    "testing_sequences = tokenizer.texts_to_sequences(testing_sentences)\n",
    "testing_padded = pad_sequences(testing_sequences, maxlen=max_length, padding=padding_type, truncating=trunc_type)"
   ]
  },
  {
   "cell_type": "markdown",
   "id": "44a1056c",
   "metadata": {},
   "source": [
    "## Create NN Model"
   ]
  },
  {
   "cell_type": "code",
   "execution_count": 7,
   "id": "b873fa58",
   "metadata": {},
   "outputs": [
    {
     "name": "stderr",
     "output_type": "stream",
     "text": [
      "C:\\Users\\sajad\\AppData\\Roaming\\Python\\Python311\\site-packages\\keras\\src\\layers\\core\\embedding.py:90: UserWarning: Argument `input_length` is deprecated. Just remove it.\n",
      "  warnings.warn(\n"
     ]
    }
   ],
   "source": [
    "model = tf.keras.Sequential([\n",
    "    tf.keras.layers.Embedding(vocab_size, embedding_dim, input_length=max_length),\n",
    "    tf.keras.layers.GlobalAveragePooling1D(),\n",
    "    tf.keras.layers.Dense(24, activation='relu'),\n",
    "    tf.keras.layers.Dense(1, activation='sigmoid')\n",
    "])"
   ]
  },
  {
   "cell_type": "code",
   "execution_count": 8,
   "id": "a1e65d4d",
   "metadata": {},
   "outputs": [],
   "source": [
    "model.compile(optimizer='adam', loss='binary_crossentropy', metrics=['accuracy'])"
   ]
  },
  {
   "cell_type": "code",
   "execution_count": 9,
   "id": "0ea68792",
   "metadata": {},
   "outputs": [
    {
     "name": "stdout",
     "output_type": "stream",
     "text": [
      "Epoch 1/30\n",
      "625/625 - 6s - 9ms/step - accuracy: 0.6981 - loss: 0.5599 - val_accuracy: 0.8322 - val_loss: 0.4018\n",
      "Epoch 2/30\n",
      "625/625 - 3s - 6ms/step - accuracy: 0.8594 - loss: 0.3282 - val_accuracy: 0.8217 - val_loss: 0.3810\n",
      "Epoch 3/30\n",
      "625/625 - 4s - 7ms/step - accuracy: 0.8983 - loss: 0.2500 - val_accuracy: 0.8575 - val_loss: 0.3399\n",
      "Epoch 4/30\n",
      "625/625 - 4s - 6ms/step - accuracy: 0.9161 - loss: 0.2054 - val_accuracy: 0.8398 - val_loss: 0.3770\n",
      "Epoch 5/30\n",
      "625/625 - 4s - 7ms/step - accuracy: 0.9316 - loss: 0.1751 - val_accuracy: 0.8416 - val_loss: 0.3990\n",
      "Epoch 6/30\n",
      "625/625 - 3s - 6ms/step - accuracy: 0.9439 - loss: 0.1487 - val_accuracy: 0.8311 - val_loss: 0.4419\n",
      "Epoch 7/30\n",
      "625/625 - 4s - 6ms/step - accuracy: 0.9538 - loss: 0.1274 - val_accuracy: 0.8426 - val_loss: 0.4405\n",
      "Epoch 8/30\n",
      "625/625 - 5s - 8ms/step - accuracy: 0.9598 - loss: 0.1142 - val_accuracy: 0.8411 - val_loss: 0.4603\n",
      "Epoch 9/30\n",
      "625/625 - 3s - 5ms/step - accuracy: 0.9646 - loss: 0.1012 - val_accuracy: 0.8377 - val_loss: 0.4947\n",
      "Epoch 10/30\n",
      "625/625 - 3s - 5ms/step - accuracy: 0.9687 - loss: 0.0906 - val_accuracy: 0.8366 - val_loss: 0.5284\n",
      "Epoch 11/30\n",
      "625/625 - 4s - 6ms/step - accuracy: 0.9663 - loss: 0.0911 - val_accuracy: 0.8337 - val_loss: 0.5687\n",
      "Epoch 12/30\n",
      "625/625 - 4s - 6ms/step - accuracy: 0.9706 - loss: 0.0803 - val_accuracy: 0.8195 - val_loss: 0.6417\n",
      "Epoch 13/30\n",
      "625/625 - 4s - 6ms/step - accuracy: 0.9788 - loss: 0.0647 - val_accuracy: 0.8287 - val_loss: 0.6482\n",
      "Epoch 14/30\n",
      "625/625 - 3s - 5ms/step - accuracy: 0.9808 - loss: 0.0595 - val_accuracy: 0.8249 - val_loss: 0.6881\n",
      "Epoch 15/30\n",
      "625/625 - 3s - 5ms/step - accuracy: 0.9808 - loss: 0.0571 - val_accuracy: 0.8247 - val_loss: 0.7182\n",
      "Epoch 16/30\n",
      "625/625 - 4s - 6ms/step - accuracy: 0.9828 - loss: 0.0513 - val_accuracy: 0.8053 - val_loss: 0.8767\n",
      "Epoch 17/30\n",
      "625/625 - 4s - 6ms/step - accuracy: 0.9812 - loss: 0.0546 - val_accuracy: 0.8222 - val_loss: 0.7723\n",
      "Epoch 18/30\n",
      "625/625 - 5s - 8ms/step - accuracy: 0.9839 - loss: 0.0473 - val_accuracy: 0.8100 - val_loss: 0.8875\n",
      "Epoch 19/30\n",
      "625/625 - 3s - 6ms/step - accuracy: 0.9843 - loss: 0.0457 - val_accuracy: 0.8190 - val_loss: 0.8663\n",
      "Epoch 20/30\n",
      "625/625 - 4s - 6ms/step - accuracy: 0.9848 - loss: 0.0425 - val_accuracy: 0.8167 - val_loss: 0.8997\n",
      "Epoch 21/30\n",
      "625/625 - 5s - 8ms/step - accuracy: 0.9865 - loss: 0.0386 - val_accuracy: 0.8179 - val_loss: 0.9244\n",
      "Epoch 22/30\n",
      "625/625 - 3s - 5ms/step - accuracy: 0.9869 - loss: 0.0371 - val_accuracy: 0.8085 - val_loss: 1.0565\n",
      "Epoch 23/30\n",
      "625/625 - 3s - 5ms/step - accuracy: 0.9876 - loss: 0.0345 - val_accuracy: 0.8110 - val_loss: 1.0063\n",
      "Epoch 24/30\n",
      "625/625 - 4s - 6ms/step - accuracy: 0.9895 - loss: 0.0308 - val_accuracy: 0.8117 - val_loss: 1.0467\n",
      "Epoch 25/30\n",
      "625/625 - 4s - 6ms/step - accuracy: 0.9906 - loss: 0.0286 - val_accuracy: 0.8125 - val_loss: 1.0778\n",
      "Epoch 26/30\n",
      "625/625 - 4s - 6ms/step - accuracy: 0.9914 - loss: 0.0264 - val_accuracy: 0.8109 - val_loss: 1.1426\n",
      "Epoch 27/30\n",
      "625/625 - 4s - 6ms/step - accuracy: 0.9886 - loss: 0.0326 - val_accuracy: 0.8094 - val_loss: 1.1475\n",
      "Epoch 28/30\n",
      "625/625 - 4s - 6ms/step - accuracy: 0.9895 - loss: 0.0318 - val_accuracy: 0.8080 - val_loss: 1.1881\n",
      "Epoch 29/30\n",
      "625/625 - 4s - 6ms/step - accuracy: 0.9908 - loss: 0.0263 - val_accuracy: 0.8106 - val_loss: 1.1663\n",
      "Epoch 30/30\n",
      "625/625 - 4s - 6ms/step - accuracy: 0.9917 - loss: 0.0250 - val_accuracy: 0.8106 - val_loss: 1.2225\n"
     ]
    }
   ],
   "source": [
    "history = model.fit(training_padded, training_labels, epochs=30, validation_data=(testing_padded, testing_labels), verbose=2)"
   ]
  },
  {
   "cell_type": "markdown",
   "id": "6b17eedf",
   "metadata": {},
   "source": [
    "## Visualize the Results"
   ]
  },
  {
   "cell_type": "code",
   "execution_count": 10,
   "id": "ee9ebbeb",
   "metadata": {},
   "outputs": [],
   "source": [
    "import matplotlib.pyplot as plt"
   ]
  },
  {
   "cell_type": "code",
   "execution_count": 11,
   "id": "33a559e3",
   "metadata": {},
   "outputs": [
    {
     "data": {
      "image/png": "[encoded data removed]",
      "text/plain": [
       "<Figure size 640x480 with 1 Axes>"
      ]
     },
     "metadata": {},
     "output_type": "display_data"
    }
   ],
   "source": [
    "plt.figure()\n",
    "\n",
    "plt.plot(history.history['accuracy'])\n",
    "plt.plot(history.history['val_accuracy'])\n",
    "plt.xlabel('Epochs')\n",
    "plt.ylabel('Accuracy')\n",
    "plt.legend(['Training_acc', 'Testing_acc'])\n",
    "plt.show()"
   ]
  },
  {
   "cell_type": "markdown",
   "id": "f8f77089",
   "metadata": {},
   "source": [
    "## LSTM"
   ]
  },
  {
   "cell_type": "code",
   "execution_count": 13,
   "id": "f7b7be45",
   "metadata": {},
   "outputs": [],
   "source": [
    "ls_model = tf.keras.Sequential([\n",
    "    tf.keras.layers.Embedding(vocab_size, 64),\n",
    "    tf.keras.layers.Bidirectional(tf.keras.layers.LSTM(64)),\n",
    "    tf.keras.layers.Dense(64, activation='relu'),\n",
    "    tf.keras.layers.Dense(1, activation='sigmoid')\n",
    "])\n",
    "\n",
    "# 2 layer LSTM\n",
    "ls2_model = tf.keras.Sequential([\n",
    "    tf.keras.layers.Embedding(vocab_size, 64),\n",
    "    tf.keras.layers.Bidirectional(tf.keras.layers.LSTM(64, return_sequences=True)),\n",
    "    tf.keras.layers.Bidirectional(tf.keras.layers.LSTM(32)),\n",
    "    tf.keras.layers.Dense(64, activation='relu'),\n",
    "    tf.keras.layers.Dense(1, activation='sigmoid')\n",
    "])"
   ]
  },
  {
   "cell_type": "code",
   "execution_count": 15,
   "id": "7aa1f810",
   "metadata": {},
   "outputs": [],
   "source": [
    "ls_model.compile(optimizer='adam', loss='binary_crossentropy', metrics=['accuracy'])\n",
    "ls2_model.compile(optimizer='adam', loss='binary_crossentropy', metrics=['accuracy'])"
   ]
  },
  {
   "cell_type": "code",
   "execution_count": 17,
   "id": "efccbd06",
   "metadata": {},
   "outputs": [
    {
     "name": "stdout",
     "output_type": "stream",
     "text": [
      "Epoch 1/3\n",
      "\u001b[1m625/625\u001b[0m \u001b[32m━━━━━━━━━━━━━━━━━━━━\u001b[0m\u001b[37m\u001b[0m \u001b[1m21s\u001b[0m 34ms/step - accuracy: 0.9273 - loss: 0.1841 - val_accuracy: 0.8545 - val_loss: 0.3615\n",
      "Epoch 2/3\n",
      "\u001b[1m625/625\u001b[0m \u001b[32m━━━━━━━━━━━━━━━━━━━━\u001b[0m\u001b[37m\u001b[0m \u001b[1m40s\u001b[0m 32ms/step - accuracy: 0.9659 - loss: 0.0959 - val_accuracy: 0.8495 - val_loss: 0.4193\n",
      "Epoch 3/3\n",
      "\u001b[1m625/625\u001b[0m \u001b[32m━━━━━━━━━━━━━━━━━━━━\u001b[0m\u001b[37m\u001b[0m \u001b[1m21s\u001b[0m 32ms/step - accuracy: 0.9832 - loss: 0.0538 - val_accuracy: 0.8438 - val_loss: 0.5324\n"
     ]
    }
   ],
   "source": [
    "ls_history = ls_model.fit(training_padded, training_labels, epochs=3, validation_data=(testing_padded, testing_labels))"
   ]
  },
  {
   "cell_type": "code",
   "execution_count": 18,
   "id": "93f7815b",
   "metadata": {},
   "outputs": [
    {
     "name": "stdout",
     "output_type": "stream",
     "text": [
      "Epoch 1/3\n",
      "\u001b[1m625/625\u001b[0m \u001b[32m━━━━━━━━━━━━━━━━━━━━\u001b[0m\u001b[37m\u001b[0m \u001b[1m40s\u001b[0m 51ms/step - accuracy: 0.7496 - loss: 0.4754 - val_accuracy: 0.8536 - val_loss: 0.3307\n",
      "Epoch 2/3\n",
      "\u001b[1m625/625\u001b[0m \u001b[32m━━━━━━━━━━━━━━━━━━━━\u001b[0m\u001b[37m\u001b[0m \u001b[1m31s\u001b[0m 49ms/step - accuracy: 0.9328 - loss: 0.1784 - val_accuracy: 0.8504 - val_loss: 0.3867\n",
      "Epoch 3/3\n",
      "\u001b[1m625/625\u001b[0m \u001b[32m━━━━━━━━━━━━━━━━━━━━\u001b[0m\u001b[37m\u001b[0m \u001b[1m31s\u001b[0m 49ms/step - accuracy: 0.9668 - loss: 0.0941 - val_accuracy: 0.8474 - val_loss: 0.4969\n"
     ]
    }
   ],
   "source": [
    "ls2_history = ls2_model.fit(training_padded, training_labels, epochs=3, validation_data=(testing_padded, testing_labels))"
   ]
  },
  {
   "cell_type": "code",
   "execution_count": null,
   "id": "7a0b6004",
   "metadata": {},
   "outputs": [],
   "source": []
  }
 ],
 "metadata": {
  "kernelspec": {
   "display_name": "Python 3 (ipykernel)",
   "language": "python",
   "name": "python3"
  },
  "language_info": {
   "codemirror_mode": {
    "name": "ipython",
    "version": 3
   },
   "file_extension": ".py",
   "mimetype": "text/x-python",
   "name": "python",
   "nbconvert_exporter": "python",
   "pygments_lexer": "ipython3",
   "version": "3.11.5"
  }
 },
 "nbformat": 4,
 "nbformat_minor": 5
}
